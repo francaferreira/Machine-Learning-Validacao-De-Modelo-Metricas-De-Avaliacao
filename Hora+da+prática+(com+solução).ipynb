{
 "cells": [
  {
   "cell_type": "markdown",
   "metadata": {
    "id": "_kwAaQ36gLQ1"
   },
   "source": [
    "### Sobre o notebook\n",
    "\n",
    "Esse notebook contém diversos desafios envolvendo os aprendizados de cada aula. É um notebook construído com o enunciado de cada desafio e com espaço para construir e executar suas soluções. Se for necessário adicionar mais células de código para solucionar o desafio, fique à vontade para acrescentar."
   ]
  },
  {
   "cell_type": "markdown",
   "metadata": {
    "id": "fbQaJ7XHqd2p"
   },
   "source": [
    "# Aula 1"
   ]
  },
  {
   "cell_type": "markdown",
   "metadata": {
    "id": "XXpTDkQmqgGT"
   },
   "source": [
    "### Desafio 1\n",
    "\n",
    "Faça a leitura da base de dados de diabetes e realize a divisão dos dados em variáveis explicativas e variável alvo (x e y)."
   ]
  },
  {
   "cell_type": "code",
   "execution_count": 1,
   "metadata": {
    "executionInfo": {
     "elapsed": 341,
     "status": "ok",
     "timestamp": 1691677378203,
     "user": {
      "displayName": "Joao Miranda",
      "userId": "01467276596263397217"
     },
     "user_tz": 180
    },
    "id": "o-clr688LDl2"
   },
   "outputs": [],
   "source": [
    "import pandas as pd"
   ]
  },
  {
   "cell_type": "code",
   "execution_count": 2,
   "metadata": {
    "executionInfo": {
     "elapsed": 466,
     "status": "ok",
     "timestamp": 1691678902148,
     "user": {
      "displayName": "Joao Miranda",
      "userId": "01467276596263397217"
     },
     "user_tz": 180
    },
    "id": "JKj4-8qyLKaB"
   },
   "outputs": [],
   "source": [
    "dados = pd.read_csv('diabetes.csv')"
   ]
  },
  {
   "cell_type": "code",
   "execution_count": 3,
   "metadata": {
    "colab": {
     "base_uri": "https://localhost:8080/",
     "height": 423
    },
    "executionInfo": {
     "elapsed": 4,
     "status": "ok",
     "timestamp": 1691678902790,
     "user": {
      "displayName": "Joao Miranda",
      "userId": "01467276596263397217"
     },
     "user_tz": 180
    },
    "id": "0piuLJSm5tID",
    "outputId": "95b4ca45-4799-4d16-b5c2-8f5c46a4967c"
   },
   "outputs": [
    {
     "data": {
      "text/html": [
       "<div>\n",
       "<style scoped>\n",
       "    .dataframe tbody tr th:only-of-type {\n",
       "        vertical-align: middle;\n",
       "    }\n",
       "\n",
       "    .dataframe tbody tr th {\n",
       "        vertical-align: top;\n",
       "    }\n",
       "\n",
       "    .dataframe thead th {\n",
       "        text-align: right;\n",
       "    }\n",
       "</style>\n",
       "<table border=\"1\" class=\"dataframe\">\n",
       "  <thead>\n",
       "    <tr style=\"text-align: right;\">\n",
       "      <th></th>\n",
       "      <th>glicemia</th>\n",
       "      <th>pressao_sanguinea</th>\n",
       "      <th>dobra_cutane_triceps</th>\n",
       "      <th>insulina</th>\n",
       "      <th>imc</th>\n",
       "      <th>diabetes</th>\n",
       "    </tr>\n",
       "  </thead>\n",
       "  <tbody>\n",
       "    <tr>\n",
       "      <th>0</th>\n",
       "      <td>66</td>\n",
       "      <td>23</td>\n",
       "      <td>94</td>\n",
       "      <td>28.1</td>\n",
       "      <td>0.167</td>\n",
       "      <td>0</td>\n",
       "    </tr>\n",
       "    <tr>\n",
       "      <th>1</th>\n",
       "      <td>40</td>\n",
       "      <td>35</td>\n",
       "      <td>168</td>\n",
       "      <td>43.1</td>\n",
       "      <td>2.288</td>\n",
       "      <td>1</td>\n",
       "    </tr>\n",
       "    <tr>\n",
       "      <th>2</th>\n",
       "      <td>50</td>\n",
       "      <td>32</td>\n",
       "      <td>88</td>\n",
       "      <td>31.0</td>\n",
       "      <td>0.248</td>\n",
       "      <td>1</td>\n",
       "    </tr>\n",
       "    <tr>\n",
       "      <th>3</th>\n",
       "      <td>70</td>\n",
       "      <td>45</td>\n",
       "      <td>543</td>\n",
       "      <td>30.5</td>\n",
       "      <td>0.158</td>\n",
       "      <td>1</td>\n",
       "    </tr>\n",
       "    <tr>\n",
       "      <th>4</th>\n",
       "      <td>60</td>\n",
       "      <td>23</td>\n",
       "      <td>846</td>\n",
       "      <td>30.1</td>\n",
       "      <td>0.398</td>\n",
       "      <td>1</td>\n",
       "    </tr>\n",
       "    <tr>\n",
       "      <th>...</th>\n",
       "      <td>...</td>\n",
       "      <td>...</td>\n",
       "      <td>...</td>\n",
       "      <td>...</td>\n",
       "      <td>...</td>\n",
       "      <td>...</td>\n",
       "    </tr>\n",
       "    <tr>\n",
       "      <th>389</th>\n",
       "      <td>88</td>\n",
       "      <td>44</td>\n",
       "      <td>510</td>\n",
       "      <td>43.3</td>\n",
       "      <td>0.222</td>\n",
       "      <td>1</td>\n",
       "    </tr>\n",
       "    <tr>\n",
       "      <th>390</th>\n",
       "      <td>88</td>\n",
       "      <td>39</td>\n",
       "      <td>110</td>\n",
       "      <td>36.5</td>\n",
       "      <td>1.057</td>\n",
       "      <td>1</td>\n",
       "    </tr>\n",
       "    <tr>\n",
       "      <th>391</th>\n",
       "      <td>58</td>\n",
       "      <td>26</td>\n",
       "      <td>16</td>\n",
       "      <td>28.4</td>\n",
       "      <td>0.766</td>\n",
       "      <td>0</td>\n",
       "    </tr>\n",
       "    <tr>\n",
       "      <th>392</th>\n",
       "      <td>76</td>\n",
       "      <td>48</td>\n",
       "      <td>180</td>\n",
       "      <td>32.9</td>\n",
       "      <td>0.171</td>\n",
       "      <td>0</td>\n",
       "    </tr>\n",
       "    <tr>\n",
       "      <th>393</th>\n",
       "      <td>72</td>\n",
       "      <td>23</td>\n",
       "      <td>112</td>\n",
       "      <td>26.2</td>\n",
       "      <td>0.245</td>\n",
       "      <td>0</td>\n",
       "    </tr>\n",
       "  </tbody>\n",
       "</table>\n",
       "<p>394 rows × 6 columns</p>\n",
       "</div>"
      ],
      "text/plain": [
       "     glicemia  pressao_sanguinea  dobra_cutane_triceps  insulina    imc  \\\n",
       "0          66                 23                    94      28.1  0.167   \n",
       "1          40                 35                   168      43.1  2.288   \n",
       "2          50                 32                    88      31.0  0.248   \n",
       "3          70                 45                   543      30.5  0.158   \n",
       "4          60                 23                   846      30.1  0.398   \n",
       "..        ...                ...                   ...       ...    ...   \n",
       "389        88                 44                   510      43.3  0.222   \n",
       "390        88                 39                   110      36.5  1.057   \n",
       "391        58                 26                    16      28.4  0.766   \n",
       "392        76                 48                   180      32.9  0.171   \n",
       "393        72                 23                   112      26.2  0.245   \n",
       "\n",
       "     diabetes  \n",
       "0           0  \n",
       "1           1  \n",
       "2           1  \n",
       "3           1  \n",
       "4           1  \n",
       "..        ...  \n",
       "389         1  \n",
       "390         1  \n",
       "391         0  \n",
       "392         0  \n",
       "393         0  \n",
       "\n",
       "[394 rows x 6 columns]"
      ]
     },
     "execution_count": 3,
     "metadata": {},
     "output_type": "execute_result"
    }
   ],
   "source": [
    "dados"
   ]
  },
  {
   "cell_type": "code",
   "execution_count": 4,
   "metadata": {
    "executionInfo": {
     "elapsed": 321,
     "status": "ok",
     "timestamp": 1691678946513,
     "user": {
      "displayName": "Joao Miranda",
      "userId": "01467276596263397217"
     },
     "user_tz": 180
    },
    "id": "dBH4Oa7dXdhX"
   },
   "outputs": [],
   "source": [
    "x = dados.drop('diabetes', axis = 1)\n",
    "y = dados['diabetes']"
   ]
  },
  {
   "cell_type": "markdown",
   "metadata": {
    "id": "dn6U1p70qw7p"
   },
   "source": [
    "### Desafio 2\n",
    "\n",
    "Realize a divisão dos dados entre treino e teste."
   ]
  },
  {
   "cell_type": "code",
   "execution_count": 5,
   "metadata": {
    "executionInfo": {
     "elapsed": 2,
     "status": "ok",
     "timestamp": 1691678012749,
     "user": {
      "displayName": "Joao Miranda",
      "userId": "01467276596263397217"
     },
     "user_tz": 180
    },
    "id": "AKqvmM8QXkHW"
   },
   "outputs": [],
   "source": [
    "from sklearn.model_selection import train_test_split"
   ]
  },
  {
   "cell_type": "code",
   "execution_count": 6,
   "metadata": {
    "executionInfo": {
     "elapsed": 399,
     "status": "ok",
     "timestamp": 1691678948184,
     "user": {
      "displayName": "Joao Miranda",
      "userId": "01467276596263397217"
     },
     "user_tz": 180
    },
    "id": "k0K_Xk_nYCdf"
   },
   "outputs": [],
   "source": [
    "x, x_teste, y, y_teste = train_test_split(x, y, stratify = y, test_size = 0.05, random_state = 5)\n",
    "x_treino, x_val, y_treino, y_val = train_test_split(x, y, stratify = y, random_state = 5)"
   ]
  },
  {
   "cell_type": "markdown",
   "metadata": {
    "id": "IcmuQBIyxHc8"
   },
   "source": [
    "### Desafio 3\n",
    "\n",
    "Crie 2 modelos utilizando os algoritmos [DecisionTreeClassifier](https://scikit-learn.org/stable/modules/generated/sklearn.tree.DecisionTreeClassifier.html) e [RandomForestClassifer](https://scikit-learn.org/stable/modules/generated/sklearn.ensemble.RandomForestClassifier.html) e avalie a acurácia de treino e teste, escolhendo valores para o parâmetro `max_depth` para os modelos não se especializarem demais no padrão dos dados de treino."
   ]
  },
  {
   "cell_type": "code",
   "execution_count": 7,
   "metadata": {
    "executionInfo": {
     "elapsed": 341,
     "status": "ok",
     "timestamp": 1691678950783,
     "user": {
      "displayName": "Joao Miranda",
      "userId": "01467276596263397217"
     },
     "user_tz": 180
    },
    "id": "qRyNYCMYYLP3"
   },
   "outputs": [],
   "source": [
    "from sklearn.tree import DecisionTreeClassifier\n",
    "from sklearn.ensemble import RandomForestClassifier"
   ]
  },
  {
   "cell_type": "code",
   "execution_count": 8,
   "metadata": {
    "executionInfo": {
     "elapsed": 1,
     "status": "ok",
     "timestamp": 1691678951244,
     "user": {
      "displayName": "Joao Miranda",
      "userId": "01467276596263397217"
     },
     "user_tz": 180
    },
    "id": "LgoweRUyYUF3"
   },
   "outputs": [],
   "source": [
    "arvore = DecisionTreeClassifier(max_depth = 3)\n",
    "random_forest = RandomForestClassifier(max_depth = 2)"
   ]
  },
  {
   "cell_type": "code",
   "execution_count": 9,
   "metadata": {
    "colab": {
     "base_uri": "https://localhost:8080/"
    },
    "executionInfo": {
     "elapsed": 2,
     "status": "ok",
     "timestamp": 1691678952156,
     "user": {
      "displayName": "Joao Miranda",
      "userId": "01467276596263397217"
     },
     "user_tz": 180
    },
    "id": "0UiFK1niYeE3",
    "outputId": "8bd97de4-76b9-4908-aac1-f5ad2d3002a2"
   },
   "outputs": [
    {
     "name": "stdout",
     "output_type": "stream",
     "text": [
      "Acurácia de treino: 0.7571428571428571\n",
      "Acurácia de validação: 0.776595744680851\n"
     ]
    }
   ],
   "source": [
    "arvore.fit(x_treino, y_treino)\n",
    "print(f'Acurácia de treino: {arvore.score(x_treino, y_treino)}')\n",
    "print(f'Acurácia de validação: {arvore.score(x_val, y_val)}')"
   ]
  },
  {
   "cell_type": "code",
   "execution_count": 10,
   "metadata": {
    "colab": {
     "base_uri": "https://localhost:8080/"
    },
    "executionInfo": {
     "elapsed": 506,
     "status": "ok",
     "timestamp": 1691678954979,
     "user": {
      "displayName": "Joao Miranda",
      "userId": "01467276596263397217"
     },
     "user_tz": 180
    },
    "id": "YPeQmyV1YhwA",
    "outputId": "2a352905-6a43-4d29-d5dc-62dd8dbf5ddf"
   },
   "outputs": [
    {
     "name": "stdout",
     "output_type": "stream",
     "text": [
      "Acurácia de treino: 0.725\n",
      "Acurácia de teste: 0.7021276595744681\n"
     ]
    }
   ],
   "source": [
    "random_forest.fit(x_treino, y_treino)\n",
    "print(f'Acurácia de treino: {random_forest.score(x_treino, y_treino)}')\n",
    "print(f'Acurácia de teste: {random_forest.score(x_val, y_val)}')\n"
   ]
  },
  {
   "cell_type": "markdown",
   "metadata": {
    "id": "luUySRh5xNL1"
   },
   "source": [
    "### Desafio 4\n",
    "\n",
    "Construa uma matriz de confusão para cada um dos modelos para avaliar o desempenho das previsões."
   ]
  },
  {
   "cell_type": "code",
   "execution_count": 11,
   "metadata": {
    "id": "_sufI0QkZKvu"
   },
   "outputs": [],
   "source": [
    "from sklearn.metrics import ConfusionMatrixDisplay"
   ]
  },
  {
   "cell_type": "code",
   "execution_count": 12,
   "metadata": {
    "colab": {
     "base_uri": "https://localhost:8080/",
     "height": 449
    },
    "executionInfo": {
     "elapsed": 902,
     "status": "ok",
     "timestamp": 1691679075932,
     "user": {
      "displayName": "Joao Miranda",
      "userId": "01467276596263397217"
     },
     "user_tz": 180
    },
    "id": "oYfXp0IzZC5G",
    "outputId": "e9fad287-679f-4947-f50b-d1ebe92069b0"
   },
   "outputs": [
    {
     "data": {
      "image/png": "[encoded data removed]",
      "text/plain": [
       "<Figure size 640x480 with 2 Axes>"
      ]
     },
     "metadata": {},
     "output_type": "display_data"
    }
   ],
   "source": [
    "previsao_arvore = arvore.predict(x_val)\n",
    "ConfusionMatrixDisplay.from_predictions(y_val, previsao_arvore);"
   ]
  },
  {
   "cell_type": "code",
   "execution_count": 13,
   "metadata": {
    "colab": {
     "base_uri": "https://localhost:8080/",
     "height": 449
    },
    "executionInfo": {
     "elapsed": 879,
     "status": "ok",
     "timestamp": 1691686665221,
     "user": {
      "displayName": "Joao Miranda",
      "userId": "01467276596263397217"
     },
     "user_tz": 180
    },
    "id": "H120E3F7YbWx",
    "outputId": "94630140-0048-4781-878b-304dc21df8e4"
   },
   "outputs": [
    {
     "data": {
      "image/png": "[encoded data removed]",
      "text/plain": [
       "<Figure size 640x480 with 2 Axes>"
      ]
     },
     "metadata": {},
     "output_type": "display_data"
    }
   ],
   "source": [
    "previsao_rf = random_forest.predict(x_val)\n",
    "ConfusionMatrixDisplay.from_predictions(y_val, previsao_rf);"
   ]
  },
  {
   "cell_type": "markdown",
   "metadata": {
    "id": "dQtdWeLPZ2qI"
   },
   "source": [
    "# Aula 2"
   ]
  },
  {
   "cell_type": "markdown",
   "metadata": {
    "id": "j3gbWXPaZ6b_"
   },
   "source": [
    "### Desafio 1\n",
    "\n",
    "Extraia as métricas acurácia, recall, precisão e F1-Score dos modelos de classificação gerados no desafio da aula 1."
   ]
  },
  {
   "cell_type": "code",
   "execution_count": 14,
   "metadata": {
    "executionInfo": {
     "elapsed": 337,
     "status": "ok",
     "timestamp": 1691687327100,
     "user": {
      "displayName": "Joao Miranda",
      "userId": "01467276596263397217"
     },
     "user_tz": 180
    },
    "id": "b-TqlLAeaKNH"
   },
   "outputs": [],
   "source": [
    "from sklearn.metrics import accuracy_score, recall_score, precision_score, f1_score"
   ]
  },
  {
   "cell_type": "code",
   "execution_count": 15,
   "metadata": {
    "colab": {
     "base_uri": "https://localhost:8080/"
    },
    "executionInfo": {
     "elapsed": 346,
     "status": "ok",
     "timestamp": 1691687711178,
     "user": {
      "displayName": "Joao Miranda",
      "userId": "01467276596263397217"
     },
     "user_tz": 180
    },
    "id": "LeqzTsm5bBg9",
    "outputId": "1e10c665-9481-45aa-fa97-928e21a9e73e"
   },
   "outputs": [
    {
     "name": "stdout",
     "output_type": "stream",
     "text": [
      "Acurácia (Decision Tree): 0.776595744680851\n",
      "Recall (Decision Tree): 0.6774193548387096\n",
      "Precisão (Decision Tree): 0.65625\n",
      "F1_Score (Decision Tree): 0.6666666666666667\n"
     ]
    }
   ],
   "source": [
    "previsao_arvore = arvore.predict(x_val)\n",
    "\n",
    "print(f'Acurácia (Decision Tree): {accuracy_score(y_val, previsao_arvore)}')\n",
    "print(f'Recall (Decision Tree): {recall_score(y_val, previsao_arvore)}')\n",
    "print(f'Precisão (Decision Tree): {precision_score(y_val, previsao_arvore)}')\n",
    "print(f'F1_Score (Decision Tree): {f1_score(y_val, previsao_arvore)}')"
   ]
  },
  {
   "cell_type": "code",
   "execution_count": 16,
   "metadata": {
    "colab": {
     "base_uri": "https://localhost:8080/"
    },
    "executionInfo": {
     "elapsed": 439,
     "status": "ok",
     "timestamp": 1691687714097,
     "user": {
      "displayName": "Joao Miranda",
      "userId": "01467276596263397217"
     },
     "user_tz": 180
    },
    "id": "nIh9QtqWcD1W",
    "outputId": "d28233d4-f569-4b7a-a7f5-de031a640263"
   },
   "outputs": [
    {
     "name": "stdout",
     "output_type": "stream",
     "text": [
      "Acurácia (Random Forest): 0.7021276595744681\n",
      "Recall (Random Forest): 0.22580645161290322\n",
      "Precisão (Random Forest): 0.6363636363636364\n",
      "F1_Score (Random Forest): 0.3333333333333333\n"
     ]
    }
   ],
   "source": [
    "previsao_rf = random_forest.predict(x_val)\n",
    "\n",
    "print(f'Acurácia (Random Forest): {accuracy_score(y_val, previsao_rf)}')\n",
    "print(f'Recall (Random Forest): {recall_score(y_val, previsao_rf)}')\n",
    "print(f'Precisão (Random Forest): {precision_score(y_val, previsao_rf)}')\n",
    "print(f'F1_Score (Random Forest): {f1_score(y_val, previsao_rf)}')"
   ]
  },
  {
   "cell_type": "markdown",
   "metadata": {
    "id": "Iy6nX8iQZ_JJ"
   },
   "source": [
    "### Desafio 2\n",
    "\n",
    "Obtenha a curva ROC e a métrica AUC dos modelos de classificação gerados no desafio da aula 1, comparando as curvas no mesmo gráfico.\n",
    "\n",
    "*Como uma dica, vasculhe a documentação do `Scikit-learn` a partir deste [link](https://scikit-learn.org/stable/auto_examples/release_highlights/plot_release_highlights_0_22_0.html#new-plotting-api) e verifique uma forma de apresentar os resultados das curvas no mesmo gráfico usando o matplotlib*"
   ]
  },
  {
   "cell_type": "code",
   "execution_count": 17,
   "metadata": {
    "executionInfo": {
     "elapsed": 336,
     "status": "ok",
     "timestamp": 1691688642175,
     "user": {
      "displayName": "Joao Miranda",
      "userId": "01467276596263397217"
     },
     "user_tz": 180
    },
    "id": "CBfg1CYkdUFr"
   },
   "outputs": [],
   "source": [
    "from sklearn.metrics import RocCurveDisplay, roc_auc_score"
   ]
  },
  {
   "cell_type": "code",
   "execution_count": 18,
   "metadata": {
    "colab": {
     "base_uri": "https://localhost:8080/",
     "height": 449
    },
    "executionInfo": {
     "elapsed": 1562,
     "status": "ok",
     "timestamp": 1691688194423,
     "user": {
      "displayName": "Joao Miranda",
      "userId": "01467276596263397217"
     },
     "user_tz": 180
    },
    "id": "5v1TLi6ZaK3G",
    "outputId": "ba4a0e8d-2952-44aa-8a5a-fff12cd16e05"
   },
   "outputs": [
    {
     "data": {
      "image/png": "[encoded data removed]",
      "text/plain": [
       "<Figure size 640x480 with 1 Axes>"
      ]
     },
     "metadata": {},
     "output_type": "display_data"
    }
   ],
   "source": [
    "curva_roc = RocCurveDisplay.from_predictions(y_val, previsao_arvore, name = 'Decision Tree')\n",
    "curva_roc = RocCurveDisplay.from_predictions(y_val, previsao_rf, name = 'Random Forest', ax = curva_roc.ax_)"
   ]
  },
  {
   "cell_type": "code",
   "execution_count": 19,
   "metadata": {
    "colab": {
     "base_uri": "https://localhost:8080/"
    },
    "executionInfo": {
     "elapsed": 336,
     "status": "ok",
     "timestamp": 1691688669539,
     "user": {
      "displayName": "Joao Miranda",
      "userId": "01467276596263397217"
     },
     "user_tz": 180
    },
    "id": "vdn3j9Z2fe1i",
    "outputId": "94ac3278-d235-4123-c3d4-2d66fdc09758"
   },
   "outputs": [
    {
     "name": "stdout",
     "output_type": "stream",
     "text": [
      "AUC (Decision Tree): 0.7514080901177674\n",
      "AUC (Random Forest): 0.5811571940604199\n"
     ]
    }
   ],
   "source": [
    "print(f'AUC (Decision Tree): {roc_auc_score(y_val, previsao_arvore)}')\n",
    "print(f'AUC (Random Forest): {roc_auc_score(y_val, previsao_rf)}')"
   ]
  },
  {
   "cell_type": "markdown",
   "metadata": {
    "id": "MtAISYmrZ_VR"
   },
   "source": [
    "### Desafio 3\n",
    "\n",
    "Obtenha a curva precisão x recall e a métrica AP dos modelos de classificação gerados no desafio da aula 1, comparando as curvas no mesmo gráfico.\n",
    "\n",
    "*Como uma dica, vasculhe a documentação do `Scikit-learn` a partir deste [link](https://scikit-learn.org/stable/auto_examples/release_highlights/plot_release_highlights_0_22_0.html#new-plotting-api) e verifique uma forma de apresentar os resultados das curvas no mesmo gráfico usando o matplotlib*"
   ]
  },
  {
   "cell_type": "code",
   "execution_count": 20,
   "metadata": {
    "executionInfo": {
     "elapsed": 503,
     "status": "ok",
     "timestamp": 1691688748631,
     "user": {
      "displayName": "Joao Miranda",
      "userId": "01467276596263397217"
     },
     "user_tz": 180
    },
    "id": "n5UUgmk4af0I"
   },
   "outputs": [],
   "source": [
    "from sklearn.metrics import PrecisionRecallDisplay, average_precision_score"
   ]
  },
  {
   "cell_type": "code",
   "execution_count": 21,
   "metadata": {
    "colab": {
     "base_uri": "https://localhost:8080/",
     "height": 449
    },
    "executionInfo": {
     "elapsed": 904,
     "status": "ok",
     "timestamp": 1691688850952,
     "user": {
      "displayName": "Joao Miranda",
      "userId": "01467276596263397217"
     },
     "user_tz": 180
    },
    "id": "YTLqWT4fgnVh",
    "outputId": "4c2709e9-13a4-4cf6-fe21-39743ec59ed9"
   },
   "outputs": [
    {
     "data": {
      "image/png": "[encoded data removed]",
      "text/plain": [
       "<Figure size 640x480 with 1 Axes>"
      ]
     },
     "metadata": {},
     "output_type": "display_data"
    }
   ],
   "source": [
    "curva_precision_recall = PrecisionRecallDisplay.from_predictions(y_val, previsao_arvore, name = 'Decision Tree')\n",
    "curva_precision_recall = PrecisionRecallDisplay.from_predictions(y_val, previsao_rf, name = 'Random Forest', ax = curva_precision_recall.ax_)"
   ]
  },
  {
   "cell_type": "code",
   "execution_count": 22,
   "metadata": {
    "colab": {
     "base_uri": "https://localhost:8080/"
    },
    "executionInfo": {
     "elapsed": 334,
     "status": "ok",
     "timestamp": 1691688925704,
     "user": {
      "displayName": "Joao Miranda",
      "userId": "01467276596263397217"
     },
     "user_tz": 180
    },
    "id": "-U4reHq9hEbB",
    "outputId": "a8af3d91-5657-422b-99f9-4e350b8f9468"
   },
   "outputs": [
    {
     "name": "stdout",
     "output_type": "stream",
     "text": [
      "AP (Decision Tree): 0.5509394303363074\n",
      "AP (Random Forest): 0.3990141635989268\n"
     ]
    }
   ],
   "source": [
    "print(f'AP (Decision Tree): {average_precision_score(y_val, previsao_arvore)}')\n",
    "print(f'AP (Random Forest): {average_precision_score(y_val, previsao_rf)}')"
   ]
  },
  {
   "cell_type": "markdown",
   "metadata": {
    "id": "QC-mYuowZ_YO"
   },
   "source": [
    "### Desafio 4\n",
    "\n",
    "Gere os relatórios de métricas dos modelos de classificação gerados no desafio da aula 1."
   ]
  },
  {
   "cell_type": "code",
   "execution_count": 23,
   "metadata": {
    "executionInfo": {
     "elapsed": 410,
     "status": "ok",
     "timestamp": 1691688949954,
     "user": {
      "displayName": "Joao Miranda",
      "userId": "01467276596263397217"
     },
     "user_tz": 180
    },
    "id": "AZIfQPpJZ3rG"
   },
   "outputs": [],
   "source": [
    "from sklearn.metrics import classification_report"
   ]
  },
  {
   "cell_type": "code",
   "execution_count": 24,
   "metadata": {
    "colab": {
     "base_uri": "https://localhost:8080/"
    },
    "executionInfo": {
     "elapsed": 353,
     "status": "ok",
     "timestamp": 1691689755419,
     "user": {
      "displayName": "Joao Miranda",
      "userId": "01467276596263397217"
     },
     "user_tz": 180
    },
    "id": "1GoUVoEVhNvZ",
    "outputId": "6f28fd70-1c12-46c0-8221-13467d8c663f"
   },
   "outputs": [
    {
     "name": "stdout",
     "output_type": "stream",
     "text": [
      "Decision Tree\n",
      "              precision    recall  f1-score   support\n",
      "\n",
      "           0       0.84      0.83      0.83        63\n",
      "           1       0.66      0.68      0.67        31\n",
      "\n",
      "    accuracy                           0.78        94\n",
      "   macro avg       0.75      0.75      0.75        94\n",
      "weighted avg       0.78      0.78      0.78        94\n",
      "\n",
      "Random Forest\n",
      "              precision    recall  f1-score   support\n",
      "\n",
      "           0       0.71      0.94      0.81        63\n",
      "           1       0.64      0.23      0.33        31\n",
      "\n",
      "    accuracy                           0.70        94\n",
      "   macro avg       0.67      0.58      0.57        94\n",
      "weighted avg       0.69      0.70      0.65        94\n",
      "\n"
     ]
    }
   ],
   "source": [
    "print('Decision Tree')\n",
    "print(classification_report(y_val, previsao_arvore))\n",
    "print('Random Forest')\n",
    "print(classification_report(y_val, previsao_rf))"
   ]
  },
  {
   "cell_type": "markdown",
   "metadata": {
    "id": "1uD6CKpmk-ud"
   },
   "source": [
    "# Aula 3"
   ]
  },
  {
   "cell_type": "markdown",
   "metadata": {
    "id": "_ksJQ1Ca9Alx"
   },
   "source": [
    "### Desafio 1\n",
    "\n",
    "Crie uma função para calcular o intervalo de confiança dos resultados de uma validação cruzada com 2 desvios padrão. A função precisa ter um parâmetro para receber uma lista com os desempenhos da validação cruzada e outro para apresentar o nome do modelo utilizado na validação cruzada. Exemplo de retorno da função:\n",
    "\n",
    "> Intervalo de confiança (\"nome do modelo\"): [\"valor mínimo do intervalo\", \"valor máximo do intervalo\"]\n",
    "\n"
   ]
  },
  {
   "cell_type": "code",
   "execution_count": 25,
   "metadata": {
    "executionInfo": {
     "elapsed": 364,
     "status": "ok",
     "timestamp": 1691696744720,
     "user": {
      "displayName": "Joao Miranda",
      "userId": "01467276596263397217"
     },
     "user_tz": 180
    },
    "id": "iaa9-k9_9AV3"
   },
   "outputs": [],
   "source": [
    "def intervalo_conf(resultados, nome_modelo):\n",
    "    media = resultados.mean()\n",
    "    desvio_padrao = resultados.std()\n",
    "    print(f'Intervalo de confiança ({nome_modelo}): [{media - 2*desvio_padrao}, {min(media + 2*desvio_padrao, 1)}]')"
   ]
  },
  {
   "cell_type": "markdown",
   "metadata": {
    "id": "aA2RAJvGlCM1"
   },
   "source": [
    "### Desafio 2\n",
    "\n",
    "Avalie o desempenho dos modelos com um intervalo de confiança utilizando a validação cruzada com o método [`KFold`](https://scikit-learn.org/stable/modules/generated/sklearn.model_selection.KFold.html), usando 10 partes e embaralhando os dados antes da separação. Use o método [`cross_val_score`](https://scikit-learn.org/stable/modules/generated/sklearn.model_selection.cross_val_score.html) que não retorna o tempo de execução, apenas as métricas."
   ]
  },
  {
   "cell_type": "code",
   "execution_count": 26,
   "metadata": {
    "executionInfo": {
     "elapsed": 448,
     "status": "ok",
     "timestamp": 1691695720955,
     "user": {
      "displayName": "Joao Miranda",
      "userId": "01467276596263397217"
     },
     "user_tz": 180
    },
    "id": "1jp9GpFwnR3i"
   },
   "outputs": [],
   "source": [
    "from sklearn.model_selection import cross_val_score, KFold"
   ]
  },
  {
   "cell_type": "code",
   "execution_count": 27,
   "metadata": {
    "colab": {
     "base_uri": "https://localhost:8080/"
    },
    "executionInfo": {
     "elapsed": 2284,
     "status": "ok",
     "timestamp": 1691696748899,
     "user": {
      "displayName": "Joao Miranda",
      "userId": "01467276596263397217"
     },
     "user_tz": 180
    },
    "id": "4lDmjqt1swq2",
    "outputId": "df9afb73-ae70-4249-9536-93db25643763"
   },
   "outputs": [
    {
     "name": "stdout",
     "output_type": "stream",
     "text": [
      "Intervalo de confiança (Decision Tree): [0.5292910838089362, 0.8675794709563556]\n",
      "Intervalo de confiança (Random Forest): [0.6233490364393219, 0.7611459848978046]\n"
     ]
    }
   ],
   "source": [
    "arvore = DecisionTreeClassifier(max_depth = 3)\n",
    "random_forest = RandomForestClassifier(max_depth = 2)\n",
    "\n",
    "kf = KFold(n_splits = 10, shuffle = True, random_state = 5)\n",
    "\n",
    "resultado_arvore = cross_val_score(arvore, x, y, cv = kf)\n",
    "resultado_rf = cross_val_score(random_forest, x, y, cv = kf)\n",
    "\n",
    "intervalo_conf(resultado_arvore, 'Decision Tree')\n",
    "intervalo_conf(resultado_rf, 'Random Forest')"
   ]
  },
  {
   "cell_type": "markdown",
   "metadata": {
    "id": "FXHAOmL4lFBp"
   },
   "source": [
    "### Desafio 3\n",
    "\n",
    "Avalie o desempenho dos modelos com um intervalo de confiança utilizando a validação cruzada (`cross_val_score`) com o método [`StratifiedKFold`](https://scikit-learn.org/stable/modules/generated/sklearn.model_selection.StratifiedKFold.html#sklearn.model_selection.StratifiedKFold), usando 10 partes e embaralhando os dados antes da separação e avaliando a métrica F1-Score."
   ]
  },
  {
   "cell_type": "code",
   "execution_count": 28,
   "metadata": {
    "executionInfo": {
     "elapsed": 1294,
     "status": "ok",
     "timestamp": 1691697265512,
     "user": {
      "displayName": "Joao Miranda",
      "userId": "01467276596263397217"
     },
     "user_tz": 180
    },
    "id": "QeAunVFjnSOi"
   },
   "outputs": [],
   "source": [
    "from sklearn.model_selection import cross_val_score, StratifiedKFold"
   ]
  },
  {
   "cell_type": "code",
   "execution_count": 29,
   "metadata": {
    "colab": {
     "base_uri": "https://localhost:8080/"
    },
    "executionInfo": {
     "elapsed": 3298,
     "status": "ok",
     "timestamp": 1691697430201,
     "user": {
      "displayName": "Joao Miranda",
      "userId": "01467276596263397217"
     },
     "user_tz": 180
    },
    "id": "hsIzBcAFA7sz",
    "outputId": "47249533-854a-4824-8a83-1c9607f7dcc9"
   },
   "outputs": [
    {
     "name": "stdout",
     "output_type": "stream",
     "text": [
      "Intervalo de confiança (Decision Tree): [0.26819817504630894, 0.7354166140441551]\n",
      "Intervalo de confiança (Random Forest): [-0.021851008587180254, 0.6145786610516749]\n"
     ]
    }
   ],
   "source": [
    "arvore = DecisionTreeClassifier(max_depth = 3)\n",
    "random_forest = RandomForestClassifier(max_depth = 2)\n",
    "\n",
    "skf = StratifiedKFold(n_splits = 10, shuffle = True, random_state = 5)\n",
    "\n",
    "resultado_arvore = cross_val_score(arvore, x, y, cv = skf, scoring = 'f1')\n",
    "resultado_rf = cross_val_score(random_forest, x, y, cv = skf, scoring =  'f1')\n",
    "\n",
    "intervalo_conf(resultado_arvore, 'Decision Tree')\n",
    "intervalo_conf(resultado_rf, 'Random Forest')"
   ]
  },
  {
   "cell_type": "markdown",
   "metadata": {
    "id": "PffR585slFHS"
   },
   "source": [
    "### Desafio 4\n",
    "\n",
    "Avalie o desempenho dos modelos utilizando a validação cruzada (`cross_val_score`) com o método [`LeaveOneOut`](https://scikit-learn.org/stable/modules/generated/sklearn.model_selection.LeaveOneOut.html).\n",
    "\n",
    "O método LeaveOneOut vai gerar um modelo para cada uma das linhas da base de dados, portanto a lista de resultados terá taxa de acerto apenas de 0 ou 1 para cada modelo. Dessa forma, extraia apenas a média do resultado, sem utilizar o intervalo de confiança.\n"
   ]
  },
  {
   "cell_type": "code",
   "execution_count": 30,
   "metadata": {
    "executionInfo": {
     "elapsed": 332,
     "status": "ok",
     "timestamp": 1691697482208,
     "user": {
      "displayName": "Joao Miranda",
      "userId": "01467276596263397217"
     },
     "user_tz": 180
    },
    "id": "WeJxh4PcnSmz"
   },
   "outputs": [],
   "source": [
    "from sklearn.model_selection import cross_val_score, LeaveOneOut"
   ]
  },
  {
   "cell_type": "code",
   "execution_count": 31,
   "metadata": {
    "colab": {
     "base_uri": "https://localhost:8080/"
    },
    "executionInfo": {
     "elapsed": 73304,
     "status": "ok",
     "timestamp": 1691697922012,
     "user": {
      "displayName": "Joao Miranda",
      "userId": "01467276596263397217"
     },
     "user_tz": 180
    },
    "id": "kSLz4gKBBw6T",
    "outputId": "ae6659dd-5e72-4c53-be79-04eaea4d9a6a"
   },
   "outputs": [
    {
     "name": "stdout",
     "output_type": "stream",
     "text": [
      "Acurácia média (Decision Tree): 0.7085561497326203\n",
      "Acurácia média (Random Forest):0.6737967914438503\n"
     ]
    }
   ],
   "source": [
    "arvore = DecisionTreeClassifier(max_depth = 3)\n",
    "random_forest = RandomForestClassifier(max_depth = 2)\n",
    "\n",
    "loo = LeaveOneOut()\n",
    "\n",
    "resultado_arvore = cross_val_score(arvore, x, y, cv = loo)\n",
    "resultado_rf = cross_val_score(random_forest, x, y, cv = loo)\n",
    "\n",
    "print(f'Acurácia média (Decision Tree): {resultado_arvore.mean()}')\n",
    "print(f'Acurácia média (Random Forest):{resultado_rf.mean()}')"
   ]
  },
  {
   "cell_type": "markdown",
   "metadata": {
    "id": "LkuY1LZDJnnE"
   },
   "source": [
    "# Aula 4"
   ]
  },
  {
   "cell_type": "markdown",
   "metadata": {
    "id": "8H-XGS58Jo97"
   },
   "source": [
    "### Desafio 1\n",
    "\n",
    "Verifique a proporção de dados da variável alvo do conjunto de dados de diabetes. Essa análise pode ser feita a partir da porcentagem de dados ou com a utilização de um gráfico de contagem para entender se há um desbalanceamento de dados."
   ]
  },
  {
   "cell_type": "code",
   "execution_count": 32,
   "metadata": {
    "colab": {
     "base_uri": "https://localhost:8080/"
    },
    "executionInfo": {
     "elapsed": 673,
     "status": "ok",
     "timestamp": 1691699792122,
     "user": {
      "displayName": "Joao Miranda",
      "userId": "01467276596263397217"
     },
     "user_tz": 180
    },
    "id": "0rzJ-gIyJogZ",
    "outputId": "5fde3c95-2e36-46f8-aa01-3d82c8998332"
   },
   "outputs": [
    {
     "data": {
      "text/plain": [
       "diabetes\n",
       "0    0.670051\n",
       "1    0.329949\n",
       "Name: proportion, dtype: float64"
      ]
     },
     "execution_count": 32,
     "metadata": {},
     "output_type": "execute_result"
    }
   ],
   "source": [
    "dados['diabetes'].value_counts(normalize = True)"
   ]
  },
  {
   "cell_type": "code",
   "execution_count": 33,
   "metadata": {
    "executionInfo": {
     "elapsed": 579,
     "status": "ok",
     "timestamp": 1691699918459,
     "user": {
      "displayName": "Joao Miranda",
      "userId": "01467276596263397217"
     },
     "user_tz": 180
    },
    "id": "3mJ8aVC0LBpb"
   },
   "outputs": [],
   "source": [
    "import seaborn as sns"
   ]
  },
  {
   "cell_type": "code",
   "execution_count": 34,
   "metadata": {
    "colab": {
     "base_uri": "https://localhost:8080/",
     "height": 449
    },
    "executionInfo": {
     "elapsed": 1116,
     "status": "ok",
     "timestamp": 1691699994312,
     "user": {
      "displayName": "Joao Miranda",
      "userId": "01467276596263397217"
     },
     "user_tz": 180
    },
    "id": "WNZzDH_6K5tD",
    "outputId": "08b472f2-e62f-42df-9e5b-53033c4fce93"
   },
   "outputs": [
    {
     "data": {
      "image/png": "[encoded data removed]",
      "text/plain": [
       "<Figure size 640x480 with 1 Axes>"
      ]
     },
     "metadata": {},
     "output_type": "display_data"
    }
   ],
   "source": [
    "sns.countplot(dados, x = 'diabetes');"
   ]
  },
  {
   "cell_type": "markdown",
   "metadata": {
    "id": "OMJ-IW4NJr4M"
   },
   "source": [
    "### Desafio 2\n",
    "\n",
    "Utilize um [`pipeline`](https://imbalanced-learn.org/stable/references/generated/imblearn.pipeline.Pipeline.html) contendo ajuste do modelo e o balanceamento dos dados usando o oversampling com [`SMOTE`](https://imbalanced-learn.org/stable/references/generated/imblearn.over_sampling.SMOTE.html), obtendo a média do F1-Score de uma validação cruzada com `StratifiedKFold`."
   ]
  },
  {
   "cell_type": "code",
   "execution_count": 35,
   "metadata": {
    "executionInfo": {
     "elapsed": 472,
     "status": "ok",
     "timestamp": 1691700816085,
     "user": {
      "displayName": "Joao Miranda",
      "userId": "01467276596263397217"
     },
     "user_tz": 180
    },
    "id": "2HQrGfZgJtLm"
   },
   "outputs": [],
   "source": [
    "from imblearn.pipeline import Pipeline as imbpipeline"
   ]
  },
  {
   "cell_type": "code",
   "execution_count": 36,
   "metadata": {
    "executionInfo": {
     "elapsed": 2,
     "status": "ok",
     "timestamp": 1691700816086,
     "user": {
      "displayName": "Joao Miranda",
      "userId": "01467276596263397217"
     },
     "user_tz": 180
    },
    "id": "khtI05ihOJZ3"
   },
   "outputs": [],
   "source": [
    "from imblearn.over_sampling import SMOTE"
   ]
  },
  {
   "cell_type": "code",
   "execution_count": 37,
   "metadata": {
    "colab": {
     "base_uri": "https://localhost:8080/"
    },
    "executionInfo": {
     "elapsed": 333,
     "status": "ok",
     "timestamp": 1691701140214,
     "user": {
      "displayName": "Joao Miranda",
      "userId": "01467276596263397217"
     },
     "user_tz": 180
    },
    "id": "jY2VGdxYOMQg",
    "outputId": "a37b4acf-5083-49d2-e485-76baa2f74332"
   },
   "outputs": [
    {
     "name": "stdout",
     "output_type": "stream",
     "text": [
      "F1 (Decision Tree):0.5498686454331616\n"
     ]
    }
   ],
   "source": [
    "arvore = DecisionTreeClassifier(max_depth = 3)\n",
    "pipeline = imbpipeline([('oversample', SMOTE()), ('arvore', arvore)])\n",
    "skf = StratifiedKFold(n_splits = 10, shuffle = True, random_state = 5)\n",
    "resultado_arvore = cross_val_score(pipeline, x, y, cv = skf, scoring = 'f1')\n",
    "print(f'F1 (Decision Tree):{resultado_arvore.mean()}')"
   ]
  },
  {
   "cell_type": "code",
   "execution_count": 38,
   "metadata": {
    "colab": {
     "base_uri": "https://localhost:8080/"
    },
    "executionInfo": {
     "elapsed": 3265,
     "status": "ok",
     "timestamp": 1691701182144,
     "user": {
      "displayName": "Joao Miranda",
      "userId": "01467276596263397217"
     },
     "user_tz": 180
    },
    "id": "GxMRX-vxOirn",
    "outputId": "152b3e63-266a-486c-b3ef-6dc2959d5590"
   },
   "outputs": [
    {
     "name": "stdout",
     "output_type": "stream",
     "text": [
      "F1 (Random Forest):0.6032767246031984\n"
     ]
    }
   ],
   "source": [
    "random_forest = RandomForestClassifier(max_depth = 2)\n",
    "pipeline = imbpipeline([('oversample', SMOTE()), ('random_forest', random_forest)])\n",
    "skf = StratifiedKFold(n_splits = 10, shuffle = True, random_state = 5)\n",
    "resultado_rf = cross_val_score(pipeline, x, y, cv = skf, scoring = 'f1')\n",
    "print(f'F1 (Random Forest):{resultado_rf.mean()}')"
   ]
  },
  {
   "cell_type": "markdown",
   "metadata": {
    "id": "rSKJ6r9gJuq0"
   },
   "source": [
    "### Desafio 3\n",
    "\n",
    " Utilize um [`pipeline`](https://imbalanced-learn.org/stable/references/generated/imblearn.pipeline.Pipeline.html) contendo ajuste do modelo e o balanceamento dos dados usando o undersampling com [`Nearmiss`](https://imbalanced-learn.org/stable/references/generated/imblearn.over_sampling.SMOTE.html) na sua versão 3, obtendo a média do F1-Score de uma validação cruzada com `StratifiedKFold`."
   ]
  },
  {
   "cell_type": "code",
   "execution_count": 39,
   "metadata": {
    "executionInfo": {
     "elapsed": 2,
     "status": "ok",
     "timestamp": 1691700926505,
     "user": {
      "displayName": "Joao Miranda",
      "userId": "01467276596263397217"
     },
     "user_tz": 180
    },
    "id": "L8CMX0NAO4xo"
   },
   "outputs": [],
   "source": [
    "from imblearn.pipeline import Pipeline as imbpipeline"
   ]
  },
  {
   "cell_type": "code",
   "execution_count": 40,
   "metadata": {
    "executionInfo": {
     "elapsed": 2,
     "status": "ok",
     "timestamp": 1691700926506,
     "user": {
      "displayName": "Joao Miranda",
      "userId": "01467276596263397217"
     },
     "user_tz": 180
    },
    "id": "JvgvSpHDJvy8"
   },
   "outputs": [],
   "source": [
    "from imblearn.under_sampling import NearMiss"
   ]
  },
  {
   "cell_type": "code",
   "execution_count": 41,
   "metadata": {
    "colab": {
     "base_uri": "https://localhost:8080/"
    },
    "executionInfo": {
     "elapsed": 337,
     "status": "ok",
     "timestamp": 1691701234636,
     "user": {
      "displayName": "Joao Miranda",
      "userId": "01467276596263397217"
     },
     "user_tz": 180
    },
    "id": "P6LtTcS_O6PP",
    "outputId": "3a9dcd3c-9b2c-4893-c813-ce154a52955f"
   },
   "outputs": [
    {
     "name": "stdout",
     "output_type": "stream",
     "text": [
      "F1 (Decision Tree):0.5449681473471797\n"
     ]
    }
   ],
   "source": [
    "arvore = DecisionTreeClassifier(max_depth = 3)\n",
    "pipeline = imbpipeline([('undersample', NearMiss(version = 3)), ('arvore', arvore)])\n",
    "skf = StratifiedKFold(n_splits = 10, shuffle = True, random_state = 5)\n",
    "resultado_arvore = cross_val_score(pipeline, x, y, cv = skf, scoring = 'f1')\n",
    "print(f'F1 (Decision Tree):{resultado_arvore.mean()}')"
   ]
  },
  {
   "cell_type": "code",
   "execution_count": 42,
   "metadata": {
    "colab": {
     "base_uri": "https://localhost:8080/"
    },
    "executionInfo": {
     "elapsed": 2164,
     "status": "ok",
     "timestamp": 1691701238692,
     "user": {
      "displayName": "Joao Miranda",
      "userId": "01467276596263397217"
     },
     "user_tz": 180
    },
    "id": "wC9L2ZedO7MP",
    "outputId": "10978d2b-ee6d-4ba4-ba44-641da11dc1a2"
   },
   "outputs": [
    {
     "name": "stdout",
     "output_type": "stream",
     "text": [
      "F1 (Random Forest):0.5986933705370857\n"
     ]
    }
   ],
   "source": [
    "random_forest = RandomForestClassifier(max_depth = 2)\n",
    "pipeline = imbpipeline([('undersample', NearMiss(version = 3)), ('random_forest', random_forest)])\n",
    "skf = StratifiedKFold(n_splits = 10, shuffle = True, random_state = 5)\n",
    "resultado_rf = cross_val_score(pipeline, x, y, cv = skf, scoring = 'f1')\n",
    "print(f'F1 (Random Forest):{resultado_rf.mean()}')"
   ]
  },
  {
   "cell_type": "markdown",
   "metadata": {
    "id": "6ZpXGQyPJwNl"
   },
   "source": [
    "### Desafio 4\n",
    "\n",
    "Escolha o modelo que obteve o melhor desempenho ao comparar as estratégias de oversampling e undersampling e realize o teste do modelo nos dados de teste que foram separados no início dos desafios."
   ]
  },
  {
   "cell_type": "code",
   "execution_count": 43,
   "metadata": {
    "colab": {
     "base_uri": "https://localhost:8080/",
     "height": 616
    },
    "executionInfo": {
     "elapsed": 871,
     "status": "ok",
     "timestamp": 1691701391006,
     "user": {
      "displayName": "Joao Miranda",
      "userId": "01467276596263397217"
     },
     "user_tz": 180
    },
    "id": "-5VJm51AJxeo",
    "outputId": "3ea064f5-3c39-468a-f5f3-d2eef1445553"
   },
   "outputs": [
    {
     "name": "stdout",
     "output_type": "stream",
     "text": [
      "              precision    recall  f1-score   support\n",
      "\n",
      "           0       0.80      0.62      0.70        13\n",
      "           1       0.50      0.71      0.59         7\n",
      "\n",
      "    accuracy                           0.65        20\n",
      "   macro avg       0.65      0.66      0.64        20\n",
      "weighted avg       0.70      0.65      0.66        20\n",
      "\n"
     ]
    },
    {
     "data": {
      "image/png": "[encoded data removed]",
      "text/plain": [
       "<Figure size 640x480 with 2 Axes>"
      ]
     },
     "metadata": {},
     "output_type": "display_data"
    }
   ],
   "source": [
    "undersample = NearMiss(version = 3)\n",
    "x_balanceado, y_balanceado = undersample.fit_resample(x, y)\n",
    "\n",
    "modelo = RandomForestClassifier(max_depth = 2)\n",
    "modelo.fit(x_balanceado, y_balanceado)\n",
    "y_previsto = modelo.predict(x_teste)\n",
    "\n",
    "print(classification_report(y_teste, y_previsto))\n",
    "ConfusionMatrixDisplay.from_predictions(y_teste, y_previsto);"
   ]
  }
 ],
 "metadata": {
  "colab": {
   "authorship_tag": "ABX9TyM7/NCcYqYbGAL/5MVomBH7",
   "provenance": []
  },
  "kernelspec": {
   "display_name": "Python 3 (ipykernel)",
   "language": "python",
   "name": "python3"
  },
  "language_info": {
   "codemirror_mode": {
    "name": "ipython",
    "version": 3
   },
   "file_extension": ".py",
   "mimetype": "text/x-python",
   "name": "python",
   "nbconvert_exporter": "python",
   "pygments_lexer": "ipython3",
   "version": "3.9.13"
  }
 },
 "nbformat": 4,
 "nbformat_minor": 1
}
